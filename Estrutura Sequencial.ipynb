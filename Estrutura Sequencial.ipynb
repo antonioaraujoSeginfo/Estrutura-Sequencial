{
 "cells": [
  {
   "cell_type": "markdown",
   "id": "bb0f9514",
   "metadata": {},
   "source": [
    "# Lista de Estrutura Sequencial"
   ]
  },
  {
   "cell_type": "markdown",
   "id": "4e7a8c30",
   "metadata": {},
   "source": [
    "#### 1. Faça um Programa que mostre a mensagem (print) \"Alo mundo\" na tela."
   ]
  },
  {
   "cell_type": "code",
   "execution_count": 1,
   "id": "883bfe85",
   "metadata": {},
   "outputs": [
    {
     "name": "stdout",
     "output_type": "stream",
     "text": [
      "Alo mundo\n"
     ]
    }
   ],
   "source": [
    "print('Alo mundo')"
   ]
  },
  {
   "cell_type": "markdown",
   "id": "71d6d6a2",
   "metadata": {},
   "source": [
    "#### 2. Faça um Programa que peça um número (input) e então mostre a mensagem: \"O número informado foi [número].\""
   ]
  },
  {
   "cell_type": "code",
   "execution_count": 2,
   "id": "30cfffcf",
   "metadata": {},
   "outputs": [
    {
     "name": "stdout",
     "output_type": "stream",
     "text": [
      "Informe o número: 2\n",
      "O número informado foi 2.\n"
     ]
    }
   ],
   "source": [
    "numero = input('Informe o número: ')\n",
    "print(F'O número informado foi {numero}.')"
   ]
  },
  {
   "cell_type": "markdown",
   "id": "c5e43160",
   "metadata": {},
   "source": [
    "#### 3. Faça um Programa que peça dois números e imprima a soma."
   ]
  },
  {
   "cell_type": "code",
   "execution_count": 3,
   "id": "b0e79590",
   "metadata": {},
   "outputs": [
    {
     "name": "stdout",
     "output_type": "stream",
     "text": [
      "Informe o primeiro número: 2\n",
      "Informe o segundo número: 5\n",
      "A soma dos dois números é:, x , y\n"
     ]
    }
   ],
   "source": [
    "x = float(input('Informe o primeiro número: '))\n",
    "y = float(input('Informe o segundo número: '))\n",
    "print('A soma dos dois números é:, x , y')"
   ]
  },
  {
   "cell_type": "markdown",
   "id": "17826987",
   "metadata": {},
   "source": [
    "#### 4. Faça um Programa que peça as 4 notas bimestrais de um aluno e mostre a média de todas as notas."
   ]
  },
  {
   "cell_type": "code",
   "execution_count": 4,
   "id": "23b66762",
   "metadata": {},
   "outputs": [
    {
     "name": "stdout",
     "output_type": "stream",
     "text": [
      "Informe a 1ª nota: 9\n",
      "Informe a 1ª nota: 9.5\n",
      "Informe a 1ª nota: 8.7\n",
      "Informe a 1ª nota: 8.8\n",
      "A média é: 9.0\n"
     ]
    }
   ],
   "source": [
    "nota1 = float(input('Informe a 1ª nota: '))\n",
    "nota2 = float(input('Informe a 1ª nota: '))\n",
    "nota3 = float(input('Informe a 1ª nota: '))\n",
    "nota4 = float(input('Informe a 1ª nota: '))\n",
    "\n",
    "media = (nota1 + nota2 + nota3 + nota4) / 4\n",
    "print('A média é:', media)"
   ]
  },
  {
   "cell_type": "markdown",
   "id": "62d461c5",
   "metadata": {},
   "source": [
    "#### 5. Faça um Programa que converta metros para centímetros. Você pode pedir o comprimento em metros para o usuário (input)."
   ]
  },
  {
   "cell_type": "code",
   "execution_count": 5,
   "id": "d642f1ba",
   "metadata": {},
   "outputs": [
    {
     "name": "stdout",
     "output_type": "stream",
     "text": [
      "Informe um coprimento em metro: 1000\n",
      "Este comprimento em centrímentros é: 100000.0 cm\n"
     ]
    }
   ],
   "source": [
    "comprimento_m = float(input('Informe um coprimento em metro: '))\n",
    "comprimento_cm = comprimento_m * 100\n",
    "print('Este comprimento em centrímentros é:', comprimento_cm, 'cm')"
   ]
  },
  {
   "cell_type": "markdown",
   "id": "f1311697",
   "metadata": {},
   "source": [
    "#### 7. Faça um Programa que calcule a área de uma sala de um apartamento. Para isso, o seu programa precisa pedir a largura da sala, o comprimento da sala e imprimir a área em m² da sala."
   ]
  },
  {
   "cell_type": "code",
   "execution_count": 6,
   "id": "612ea24b",
   "metadata": {},
   "outputs": [
    {
     "name": "stdout",
     "output_type": "stream",
     "text": [
      "Informe a largura da sala em metros: 25\n",
      "Informe o comprimento da sala em metros: 2.20\n",
      "A área da sala é: 55.00000000000001 m²\n"
     ]
    }
   ],
   "source": [
    "largura = float(input('Informe a largura da sala em metros: '))\n",
    "comprimento = float(input('Informe o comprimento da sala em metros: '))\n",
    "area = largura * comprimento\n",
    "print('A área da sala é:', area, 'm²')"
   ]
  },
  {
   "cell_type": "markdown",
   "id": "2a285929",
   "metadata": {},
   "source": [
    "#### 8. Faça um Programa que pergunte quanto você ganha por hora e o número de horas trabalhadas no mês. Calcule e mostre o total do seu salário no referido mês."
   ]
  },
  {
   "cell_type": "code",
   "execution_count": 7,
   "id": "359e2232",
   "metadata": {},
   "outputs": [
    {
     "name": "stdout",
     "output_type": "stream",
     "text": [
      "Informe o valor ganho por hora em R$/h: 25\n",
      "Informe a quantidade de horas trabalhadas no mês: 240\n",
      "O salário do mês foi: R$ 6000.0\n"
     ]
    }
   ],
   "source": [
    "valor_hora = float(input('Informe o valor ganho por hora em R$/h: '))\n",
    "horas_trabalhadas = float(input('Informe a quantidade de horas trabalhadas no mês: '))\n",
    "total = valor_hora * horas_trabalhadas\n",
    "print('O salário do mês foi: R$', total)"
   ]
  },
  {
   "cell_type": "markdown",
   "id": "7e2d4615",
   "metadata": {},
   "source": [
    "#### 9. Vamos criar um conversor de temperatura. Faça um Programa que peça a temperatura em graus Fahrenheit, transforme e mostre a temperatura em graus Celsius.\n",
    "$C = \\frac{5}{9}(F-32)$"
   ]
  },
  {
   "cell_type": "code",
   "execution_count": 8,
   "id": "82daf9fd",
   "metadata": {},
   "outputs": [
    {
     "name": "stdout",
     "output_type": "stream",
     "text": [
      "Informe a temperatura em Fahrenheit: 0.08\n",
      "A temperatura é: -17.733333333333334 °C\n"
     ]
    }
   ],
   "source": [
    "temperatura_f = float(input('Informe a temperatura em Fahrenheit: '))\n",
    "temperatura_c = (5/9) * (temperatura_f - 32)\n",
    "print('A temperatura é:', temperatura_c, '°C')"
   ]
  },
  {
   "cell_type": "markdown",
   "id": "20708b1c",
   "metadata": {},
   "source": [
    "#### 10. Faça um Programa que peça a temperatura em graus Celsius, transforme e mostre em graus Fahrenheit.\n",
    "$F = \\frac{9}{5}C + 32$"
   ]
  },
  {
   "cell_type": "code",
   "execution_count": 9,
   "id": "c73cfb38",
   "metadata": {},
   "outputs": [
    {
     "name": "stdout",
     "output_type": "stream",
     "text": [
      "Informe a temperatura em Fahrenheit: 0.05\n",
      "A temperatura é: 57.69 °F\n"
     ]
    }
   ],
   "source": [
    "temperatura_c = float(input('Informe a temperatura em Fahrenheit: '))\n",
    "temperatura_f = 9/5 * (temperatura_c + 32)\n",
    "print('A temperatura é:', temperatura_f, '°F')"
   ]
  },
  {
   "cell_type": "markdown",
   "id": "b263a9dc",
   "metadata": {},
   "source": [
    "#### 12. Tendo como dados de entrada a altura (h) de uma pessoa, construa um algoritmo que calcule seu peso ideal, usando a seguinte fórmula:\n",
    "$P = 72,7h - 58$\n",
    "\n",
    "Lembrando que \"algoritmo\" nada mais é do que um programa, como todos os outros que você vem fazendo"
   ]
  },
  {
   "cell_type": "code",
   "execution_count": 10,
   "id": "9a9b8dca",
   "metadata": {},
   "outputs": [
    {
     "name": "stdout",
     "output_type": "stream",
     "text": [
      "Informe a altura em metros: 1.80\n",
      "O peso ideal é: 72.86000000000001 kg\n"
     ]
    }
   ],
   "source": [
    "altura = float(input('Informe a altura em metros: '))\n",
    "peso_ideal = 72.7 * altura - 58\n",
    "print('O peso ideal é:', peso_ideal, 'kg')"
   ]
  },
  {
   "cell_type": "markdown",
   "id": "13bb40d7",
   "metadata": {},
   "source": [
    "#### 13. Tendo como dado de entrada a altura (h) de uma pessoa, construa um algoritmo que calcule seu peso ideal, utilizando as seguintes fórmulas:\n",
    "##### a. Para homens: $P = 72,7h - 58$\n",
    "##### b. Para mulheres: $P = 62,1h - 44,7$"
   ]
  },
  {
   "cell_type": "code",
   "execution_count": 13,
   "id": "bf82dc8c",
   "metadata": {},
   "outputs": [
    {
     "name": "stdout",
     "output_type": "stream",
     "text": [
      "Informe a altura em metro: 1.65\n",
      "Os dois peso ideal para homes e mulheres é: 61.955 57.765 kg\n"
     ]
    }
   ],
   "source": [
    "altura = float(input('Informe a altura em metro: '))\n",
    "peso_ideal_homens = 72.7 * altura - 58 \n",
    "peso_ideal_mulheres = 62.1 * altura - 44.7 \n",
    "print('Os dois peso ideal para homes e mulheres é:', peso_ideal_homens, peso_ideal_mulheres, 'kg')"
   ]
  },
  {
   "cell_type": "markdown",
   "id": "f208ef89",
   "metadata": {},
   "source": [
    "#### 15. Faça um Programa que pergunte quanto você ganha por hora e o número de horas trabalhadas no mês."
   ]
  },
  {
   "cell_type": "code",
   "execution_count": 14,
   "id": "2d5b23e0",
   "metadata": {},
   "outputs": [
    {
     "name": "stdout",
     "output_type": "stream",
     "text": [
      "Informe a remuneração em R$ por hora/h: 25\n",
      "Informe a quantidade de horas trabalhadas por mês: 240\n"
     ]
    }
   ],
   "source": [
    "remuneracao = float(input('Informe a remuneração em R$ por hora/h: '))\n",
    "horas_trabalhadas = float(input('Informe a quantidade de horas trabalhadas por mês: '))"
   ]
  },
  {
   "cell_type": "markdown",
   "id": "607dee3c",
   "metadata": {},
   "source": [
    "#####  Calcule o salário bruto (horas * salario por hora)"
   ]
  },
  {
   "cell_type": "code",
   "execution_count": 15,
   "id": "7f80ccbb",
   "metadata": {},
   "outputs": [
    {
     "name": "stdout",
     "output_type": "stream",
     "text": [
      "O salário bruto é R$ 6000.0\n"
     ]
    }
   ],
   "source": [
    "salario_bruto = remuneracao * horas_trabalhadas\n",
    "print(f'O salário bruto é R$ {salario_bruto}')"
   ]
  },
  {
   "cell_type": "markdown",
   "id": "2ed93cb0",
   "metadata": {},
   "source": [
    "##### Calcule o desconto do IR (11% do salário bruto)"
   ]
  },
  {
   "cell_type": "code",
   "execution_count": 16,
   "id": "3363e22f",
   "metadata": {},
   "outputs": [
    {
     "name": "stdout",
     "output_type": "stream",
     "text": [
      " O desconto do IR é R$ 660.0\n"
     ]
    }
   ],
   "source": [
    "ir = 0.11 * salario_bruto\n",
    "print(f' O desconto do IR é R$ {ir}')"
   ]
  },
  {
   "cell_type": "markdown",
   "id": "0994b2c0",
   "metadata": {},
   "source": [
    "##### Calcule o desconto do INSS (8% do salário bruto)"
   ]
  },
  {
   "cell_type": "code",
   "execution_count": 17,
   "id": "748c6088",
   "metadata": {},
   "outputs": [
    {
     "name": "stdout",
     "output_type": "stream",
     "text": [
      " O desconto do INSS é 480.0\n"
     ]
    }
   ],
   "source": [
    "inss = 0.08 * salario_bruto\n",
    "print(f' O desconto do INSS é {inss}' )"
   ]
  },
  {
   "cell_type": "markdown",
   "id": "06e8dae4",
   "metadata": {},
   "source": [
    "##### Calcule o desconto do sindicato (5% do salário bruto)"
   ]
  },
  {
   "cell_type": "code",
   "execution_count": 18,
   "id": "21b95b15",
   "metadata": {
    "scrolled": true
   },
   "outputs": [
    {
     "name": "stdout",
     "output_type": "stream",
     "text": [
      " O desconto do sindicato é 300.0\n"
     ]
    }
   ],
   "source": [
    "sindicato = 0.05 * salario_bruto\n",
    "print(f' O desconto do sindicato é {sindicato}')"
   ]
  },
  {
   "cell_type": "markdown",
   "id": "bb14ce36",
   "metadata": {},
   "source": [
    "##### Calcule o salário líquido (salário bruto - descontos)"
   ]
  },
  {
   "cell_type": "code",
   "execution_count": 19,
   "id": "56317086",
   "metadata": {},
   "outputs": [
    {
     "name": "stdout",
     "output_type": "stream",
     "text": [
      " O salário liquido 4560.0\n"
     ]
    }
   ],
   "source": [
    "salario_liquido = salario_bruto - ir - inss - sindicato\n",
    "print(f' O salário liquido {salario_liquido}')"
   ]
  },
  {
   "cell_type": "markdown",
   "id": "cfbfcc87",
   "metadata": {},
   "source": [
    "#### 16. Faça um programa para uma loja de tintas. O programa deverá pedir o tamanho em metros quadrados da área a ser pintada. Considere que a cobertura da tinta é de 1 litro para cada 3 metros quadrados e que a tinta é vendida em latas de 18 litros, que custam R\\$ 80,00. Informe ao usuário a quantidades de latas de tinta a serem compradas e o preço total. (para simplificação nesse momento, não se preocupe em arredondar a quantidade de latas a serem compradas - vamos trabalhar isso em breve)"
   ]
  },
  {
   "cell_type": "code",
   "execution_count": 20,
   "id": "fb6a083b",
   "metadata": {},
   "outputs": [
    {
     "name": "stdout",
     "output_type": "stream",
     "text": [
      "Informe o tamanho da area a ser pintada em m²: 50\n",
      "Serão necessárias 0.925925925925926 latas, custando, R$ 74.07407407407408 no total\n"
     ]
    }
   ],
   "source": [
    "area = float(input('Informe o tamanho da area a ser pintada em m²: '))\n",
    "\n",
    "litros_tinta = area / 3\n",
    "\n",
    "latas = litros_tinta / 18 \n",
    "preco = latas * 80\n",
    "print(f'Serão necessárias {latas} latas, custando, R$ {preco} no total')"
   ]
  },
  {
   "cell_type": "markdown",
   "id": "d6503c92",
   "metadata": {},
   "source": [
    "#### 18. Faça um programa que peça o tamanho de um arquivo para download (em MB) e a velocidade de um link de Internet (em Mbps), calcule e informe o tempo aproximado de download do arquivo usando este link (em minutos).\n",
    "\n",
    "Detalhe: MB significa megabyte, Mb (com b minúsculo) significa megabit. Um megabit é 1/8 de um megabyte. "
   ]
  },
  {
   "cell_type": "code",
   "execution_count": 21,
   "id": "0563aa62",
   "metadata": {},
   "outputs": [
    {
     "name": "stdout",
     "output_type": "stream",
     "text": [
      "Informe o tamanho do arquivo MB 100\n",
      "Informe a velocidade da conexão em Mbps: 1\n",
      "O tempo do dowload é de 13.333333333333334 minutos\n"
     ]
    }
   ],
   "source": [
    "tamanho = float(input('Informe o tamanho do arquivo MB '))\n",
    "velocidade = float(input('Informe a velocidade da conexão em Mbps: '))\n",
    "tamanho_megabits = tamanho * 8\n",
    "tempo = tamanho_megabits / velocidade\n",
    "tempo_minutos = tempo / 60\n",
    "print(f'O tempo do dowload é de {tempo_minutos} minutos')"
   ]
  }
 ],
 "metadata": {
  "kernelspec": {
   "display_name": "Python 3 (ipykernel)",
   "language": "python",
   "name": "python3"
  },
  "language_info": {
   "codemirror_mode": {
    "name": "ipython",
    "version": 3
   },
   "file_extension": ".py",
   "mimetype": "text/x-python",
   "name": "python",
   "nbconvert_exporter": "python",
   "pygments_lexer": "ipython3",
   "version": "3.9.12"
  }
 },
 "nbformat": 4,
 "nbformat_minor": 5
}
